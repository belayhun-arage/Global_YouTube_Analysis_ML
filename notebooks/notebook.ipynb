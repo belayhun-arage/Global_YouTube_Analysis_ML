{
 "cells": [
  {
   "cell_type": "code",
   "execution_count": null,
   "metadata": {},
   "outputs": [],
   "source": [
    "# notebook.ipynb\n",
    "\n",
    "import pandas as pd\n",
    "from Analyser.config import data_path\n",
    "from Analyser.custom_funcs import custom_preprocessor\n",
    "\n",
    "df = pd.read_csv(data_path)\n",
    "processed = custom_preprocessor(df)"
   ]
  }
 ],
 "metadata": {
  "language_info": {
   "name": "python"
  }
 },
 "nbformat": 4,
 "nbformat_minor": 2
}
